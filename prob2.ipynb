{
 "cells": [
  {
   "cell_type": "markdown",
   "metadata": {},
   "source": [
    "## Problem2.\n",
    "\n",
    "From a clinical trial, we have 12 patients with HIV infection. After treatment, the disease progressed in 6 patients (1) and in 6 patients the infection did not progress (0). Four measurements are taken in the 12 patients (Age, sugar levels, T cell levels, and Cholesterol). Which measurement can be used as a marker to describe the progression of the disease? Which will be the criteria to predict the progression? The data can be found in `problem2.csv (x_age, x_sugar, x_Tcell, x_cholesterol, outcome)`. Arrange the data and briefly explain your results. The variable `y` (target) is a vector of 0 and 1 to represent the progression."
   ]
  },
  {
   "cell_type": "code",
   "execution_count": null,
   "metadata": {},
   "outputs": [],
   "source": []
  }
 ],
 "metadata": {
  "language_info": {
   "name": "python"
  },
  "orig_nbformat": 4
 },
 "nbformat": 4,
 "nbformat_minor": 2
}
